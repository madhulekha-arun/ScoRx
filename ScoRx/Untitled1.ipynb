{
 "cells": [
  {
   "cell_type": "code",
   "execution_count": null,
   "metadata": {
    "collapsed": false
   },
   "outputs": [
    {
     "name": "stdout",
     "output_type": "stream",
     "text": [
      "Setting experiment values\n"
     ]
    }
   ],
   "source": [
    "import math\n",
    "import sqlite3\n",
    "import numpy as np\n",
    "import LinRegLearner as lrl\n",
    "import RandomForest as rfl\n",
    "import SVM as svml\n",
    "from sklearn import linear_model\n",
    "from sklearn import preprocessing  ## sklern is ML library-- preprocessing\n",
    "import pandas as pd\n",
    "import matplotlib.pyplot as plt\n",
    "\n",
    "%matplotlib inline\n",
    "\n",
    "if __name__==\"__main__\":\n",
    "    print(\"Setting experiment values\")\n",
    "\n",
    "    conn = sqlite3.connect('/Users/Madhu/Downloads/fresh.db')\n",
    "\n",
    "    c = conn.cursor()\n",
    "\n",
    "    input=np.empty([0,47])\n",
    "\n",
    "    for row in c.execute('SELECT * FROM final'):\n",
    "        input = np.vstack([input, row])\n",
    "\n",
    "    #gender,credential\n",
    "    feature_list = [2,4]\n",
    "    #gradyear,primary spec,\n",
    "    feature_list.extend(range(5,7), )\n",
    "    #second\n",
    "    feature_list.extend([11], )\n",
    "    #state\n",
    "    feature_list.extend([13], )\n",
    "    # 16 | ReportedQualityMeasures | | 0 | | 0\n",
    "    # 17 | UsedEHR | | 0 | | 0\n",
    "    # 18 | ParticipatedMedicareMaintenance | | 0 | | 0\n",
    "    # 19 | CommittedHeartHealth | | 0 | | 0\n",
    "    # 20 | PQRS_Participation | | 0 | | 0\n",
    "    # 21 | FluShot | | 0 | | 0\n",
    "    # 22 | PneumoniaVaccine | | 0 | | 0\n",
    "    # 23 | DepressionScreening | | 0 | | 0\n",
    "    # 24 | TobaccoScreening | | 0 | | 0\n",
    "    # 25 | BodyWeightScreening | | 0 | | 0\n",
    "    # 26 | BloodPressureScreening | | 0 | | 0\n",
    "    # 27 | BreastCancerScreening | | 0 | | 0\n",
    "    # 28 | ColorectalCancerScreening | | 0 | | 0\n",
    "    # 29 | CompareNewOldMed | | 0 | | 0\n",
    "    # 30 | ControlBP_InDiabetesPatients | | 0 | | 0\n",
    "    # 31 | ReduceHeartAttack | | 0 | | 0\n",
    "    # 32 | HeartFailurePatients | | 0 | | 0\n",
    "    # 33 | MedToImprovePumpingAction_HeartPatients | | 0 | | 0\n",
    "    # 34 | Y | | 0 | | 0\n",
    "    feature_list.extend(range(16,34),)\n",
    "    # 36 | Total_Claim_Count | INT | 0 | | 0\n",
    "    # 37 | Total_Day_Supply | INT | 0 | | 0\n",
    "    # 38 | Total_Drug_Cost | INT | 0 | | 0\n",
    "    # 39 | Bene_Count_Ge65 | INT | 0 | | 0\n",
    "    # 40 | Total_Claim_Count_Ge65 | INT | 0 | | 0\n",
    "    # 41 | Total_Day_Supply_Ge65 | INT | 0 | | 0\n",
    "    # 42 | Total_Drug_Cost_Ge65 | INT | 0 | | 0\n",
    "    # 43 | Total_Amount_of_Payment_USDollars | REAL | 0 | | 0\n",
    "    # 44 | Form_of_Payment_or_Transfer_of_Value | TEXT | 0 | | 0\n",
    "    # 45 | Nature_of_Payment_or_Transfer_of_Value | TEXT | 0 | | 0\n",
    "    # 46 | MedSchoolRank | INT | 0 | | 0\n",
    "    feature_list.extend(range(36,47),)\n",
    "\n",
    "    inputX=input[:,feature_list]\n",
    "    inputY=input[:,35]\n",
    "\n",
    "    inputX_f=np.ones(inputX.shape)\n",
    "    inputY_f=np.ones(inputY.shape)\n",
    "\n",
    "\n",
    "\n",
    "    encoding = preprocessing.LabelEncoder()  ## create label encoding object\n",
    "    inputX[:, 0] = encoding.fit_transform(inputX[:, 0])\n",
    "    # Credential\n",
    "    inputX[:, 1] = encoding.fit_transform(inputX[:, 1])\n",
    "    # primary spec\n",
    "    inputX[:, 3] = encoding.fit_transform(inputX[:, 3])\n",
    "    # sec\n",
    "    inputX[:, 4] = encoding.fit_transform(inputX[:, 4])\n",
    "    # state\n",
    "    inputX[:, 5] = encoding.fit_transform(inputX[:, 5])\n",
    "    #form payment\n",
    "    inputX[:, 32] = encoding.fit_transform(inputX[:, 32])\n",
    "    #nature payment\n",
    "    inputX[:, 33] = encoding.fit_transform(inputX[:, 33])\n",
    "\n",
    "\n",
    "\n",
    "    for i in range(0,inputX.shape[0]):\n",
    "        for j in range(0, inputX.shape[1]):\n",
    "            if(inputX[i,j]==''):\n",
    "                inputX_f[i,j]=0.0\n",
    "            else:\n",
    "                inputX_f[i,j]=float(inputX[i,j])\n",
    "\n",
    "\n",
    "    for i in range(0,inputY.shape[0]):\n",
    "        if (inputY[i] == ''):\n",
    "            inputY_f[i] = 0.0\n",
    "        else:\n",
    "            inputY_f[i] = float(inputY[i])\n",
    "\n",
    "    inputX_f[:, 2] = 2016-inputX_f[:, 2]\n",
    "\n"
   ]
  },
  {
   "cell_type": "code",
   "execution_count": null,
   "metadata": {
    "collapsed": true
   },
   "outputs": [],
   "source": [
    "#print inputX[5,:]\n",
    "cols=['Gender','Credential','Experience','Primary Spec','Sec Spec','State','ReportedQualityMeasures','UsedEHR','ParticipatedMedicareMaintenance','CommittedHeartHealth',\n",
    "'PQRS_Participation','FluShot','PneumoniaVaccine','DepressionScreening','TobaccoScreening',\n",
    "'BodyWeightScreening','BloodPressureScreening','BreastCancerScreening','ColorectalCancerScreening',\n",
    "'CompareNewOldMed','ControlBP_InDiabetesPatients','ReduceHeartAttack','HeartFailurePatients',\n",
    "'MedToImprovePumpingAction_HeartPatients',\n",
    "'Total_Claim_Count', 'Total_Day_Supply','Total_Drug_Cost','Bene_Count_Ge65','Total_Claim_Count_Ge65',\n",
    "'Total_Day_Supply_Ge65','Total_Drug_Cost_Ge65','Total_Amount_of_Payment_USDollars','Payment Form',\n",
    "'Payment Nature','MedSchoolRank']\n",
    "df = pd.DataFrame(inputX_f, columns=cols)"
   ]
  },
  {
   "cell_type": "code",
   "execution_count": null,
   "metadata": {
    "collapsed": true
   },
   "outputs": [],
   "source": [
    "inputX_f.shape"
   ]
  },
  {
   "cell_type": "code",
   "execution_count": null,
   "metadata": {
    "collapsed": true
   },
   "outputs": [],
   "source": [
    "inputX.shape"
   ]
  },
  {
   "cell_type": "code",
   "execution_count": null,
   "metadata": {
    "collapsed": true
   },
   "outputs": [],
   "source": []
  }
 ],
 "metadata": {
  "anaconda-cloud": {},
  "kernelspec": {
   "display_name": "Python [python2]",
   "language": "python",
   "name": "Python [python2]"
  },
  "language_info": {
   "codemirror_mode": {
    "name": "ipython",
    "version": 2
   },
   "file_extension": ".py",
   "mimetype": "text/x-python",
   "name": "python",
   "nbconvert_exporter": "python",
   "pygments_lexer": "ipython2",
   "version": "2.7.12"
  }
 },
 "nbformat": 4,
 "nbformat_minor": 0
}
